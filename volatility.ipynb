{
 "cells": [
  {
   "cell_type": "code",
   "execution_count": 45,
   "metadata": {
    "collapsed": false
   },
   "outputs": [
    {
     "data": {
      "text/html": [
       "<div>\n",
       "<style scoped>\n",
       "    .dataframe tbody tr th:only-of-type {\n",
       "        vertical-align: middle;\n",
       "    }\n",
       "\n",
       "    .dataframe tbody tr th {\n",
       "        vertical-align: top;\n",
       "    }\n",
       "\n",
       "    .dataframe thead th {\n",
       "        text-align: right;\n",
       "    }\n",
       "</style>\n",
       "<table border=\"1\" class=\"dataframe\">\n",
       "  <thead>\n",
       "    <tr style=\"text-align: right;\">\n",
       "      <th></th>\n",
       "      <th>Date</th>\n",
       "      <th>Price</th>\n",
       "    </tr>\n",
       "  </thead>\n",
       "  <tbody>\n",
       "    <tr>\n",
       "      <th>0</th>\n",
       "      <td>Feb 23, 2015</td>\n",
       "      <td>6912.16</td>\n",
       "    </tr>\n",
       "    <tr>\n",
       "      <th>1</th>\n",
       "      <td>Feb 24, 2015</td>\n",
       "      <td>6949.63</td>\n",
       "    </tr>\n",
       "    <tr>\n",
       "      <th>2</th>\n",
       "      <td>Feb 25, 2015</td>\n",
       "      <td>6935.38</td>\n",
       "    </tr>\n",
       "    <tr>\n",
       "      <th>3</th>\n",
       "      <td>Feb 26, 2015</td>\n",
       "      <td>6949.73</td>\n",
       "    </tr>\n",
       "    <tr>\n",
       "      <th>4</th>\n",
       "      <td>Feb 27, 2015</td>\n",
       "      <td>6946.66</td>\n",
       "    </tr>\n",
       "  </tbody>\n",
       "</table>\n",
       "</div>"
      ],
      "text/plain": [
       "           Date    Price\n",
       "0  Feb 23, 2015  6912.16\n",
       "1  Feb 24, 2015  6949.63\n",
       "2  Feb 25, 2015  6935.38\n",
       "3  Feb 26, 2015  6949.73\n",
       "4  Feb 27, 2015  6946.66"
      ]
     },
     "execution_count": 45,
     "metadata": {},
     "output_type": "execute_result"
    }
   ],
   "source": [
    "%matplotlib inline\n",
    "import pandas as pd\n",
    "import matplotlib.pyplot as plt\n",
    "\n",
    "df = pd.read_csv('FTSE.csv', usecols=['Date', 'Price'])\n",
    "df.drop(df.index[[759,760]], inplace=True) # drop last 2 rows\n",
    "df['Price'] = df['Price'].str.replace(\",\", \"\").astype('float') # remove comma, convert to float\n",
    "# df = df.reindex(index=df.index[::-1])\n",
    "df.iloc[:] = df.iloc[::-1].values\n",
    "df.head()"
   ]
  },
  {
   "cell_type": "code",
   "execution_count": 37,
   "metadata": {
    "collapsed": false
   },
   "outputs": [
    {
     "data": {
      "text/plain": [
       "Text(0.5,1,u'FTSE100 for 3 years')"
      ]
     },
     "execution_count": 37,
     "metadata": {},
     "output_type": "execute_result"
    },
    {
     "data": {
      "image/png": "[encoded data removed]",
      "text/plain": [
       "<matplotlib.figure.Figure at 0x7f6a16540950>"
      ]
     },
     "metadata": {},
     "output_type": "display_data"
    }
   ],
   "source": [
    "df.plot()\n",
    "plt.xlabel('Date')\n",
    "plt.ylabel('Close Price')\n",
    "plt.title('FTSE100 for 3 years')"
   ]
  },
  {
   "cell_type": "code",
   "execution_count": 2,
   "metadata": {
    "collapsed": false
   },
   "outputs": [
    {
     "data": {
      "text/plain": [
       "99"
      ]
     },
     "execution_count": 2,
     "metadata": {},
     "output_type": "execute_result"
    }
   ],
   "source": [
    "import datetime as dt\n",
    "import bs4 as bs\n",
    "import pickle\n",
    "import requests\n",
    "\n",
    "resp = requests.get('https://en.wikipedia.org/wiki/FTSE_100_Index#FT_30') # get tickers from wikipedia\n",
    "soup = bs.BeautifulSoup(resp.text, 'lxml')\n",
    "table = soup.find('table', {'class':'wikitable sortable'}) # from wikipedia's table\n",
    "tickers = []\n",
    "for row in table.findAll('tr')[1:]: # get all tickers\n",
    "    ticker = row.findAll('td')[1].text\n",
    "    if not ticker == \"JE.\": # JE. ticker not working\n",
    "        tickers.append(ticker)\n",
    "\n",
    "with open(\"ftse100tickers.pickle\", \"wb\") as f: # pickle all ticker\n",
    "    pickle.dump(tickers, f)"
   ]
  },
  {
   "cell_type": "code",
   "execution_count": 39,
   "metadata": {
    "collapsed": true
   },
   "outputs": [
    {
     "name": "stdout",
     "output_type": "stream",
     "text": [
      "III already exists\n",
      "ADM already exists\n",
      "AAL already exists\n",
      "ANTO already exists\n",
      "AHT already exists\n",
      "ABF already exists\n",
      "AZN already exists\n",
      "AV. already exists\n",
      "BA. already exists\n",
      "BARC already exists\n",
      "BDEV already exists\n",
      "BKG already exists\n",
      "BLT already exists\n",
      "BP. already exists\n",
      "BATS already exists\n",
      "BLND already exists\n",
      "BT.A already exists\n",
      "BNZL already exists\n",
      "BRBY already exists\n",
      "CCL already exists\n",
      "CNA already exists\n",
      "CCH already exists\n",
      "CPG already exists\n",
      "CRH already exists\n",
      "CRDA already exists\n",
      "DCC already exists\n",
      "DGE already exists\n",
      "DLG already exists\n",
      "EZJ already exists\n",
      "EVR already exists\n",
      "EXPN already exists\n",
      "FERG already exists\n",
      "FRES already exists\n",
      "GFS already exists\n",
      "GKN already exists\n",
      "GSK already exists\n",
      "GLEN already exists\n",
      "HLMA already exists\n",
      "HMSO already exists\n",
      "HL. already exists\n",
      "HSBA already exists\n",
      "IMB already exists\n",
      "INF already exists\n",
      "IHG already exists\n",
      "IAG already exists\n",
      "ITRK already exists\n",
      "ITV already exists\n",
      "JMAT already exists\n",
      "KGF already exists\n",
      "LAND already exists\n",
      "LGEN already exists\n",
      "LLOY already exists\n",
      "LSE already exists\n",
      "MKS already exists\n",
      "MDC already exists\n",
      "MCRO already exists\n",
      "MNDI already exists\n",
      "MRW already exists\n",
      "NG. already exists\n",
      "NXT already exists\n",
      "NMC already exists\n",
      "OML already exists\n",
      "PPB already exists\n",
      "PSON already exists\n",
      "PSN already exists\n",
      "PRU already exists\n",
      "RRS already exists\n",
      "RB. already exists\n",
      "REL already exists\n",
      "RTO already exists\n",
      "RIO already exists\n",
      "RR. already exists\n",
      "RBS already exists\n",
      "RDSA already exists\n",
      "RSA already exists\n",
      "SGE already exists\n",
      "SBRY already exists\n",
      "SDR already exists\n",
      "SMT already exists\n",
      "SGRO already exists\n",
      "SVT already exists\n",
      "SHP already exists\n",
      "SKY already exists\n",
      "SN. already exists\n",
      "SMDS already exists\n",
      "SMIN already exists\n",
      "SKG already exists\n",
      "SSE already exists\n",
      "STAN already exists\n",
      "SLA already exists\n",
      "STJ already exists\n",
      "TW. already exists\n",
      "TSCO already exists\n",
      "TUI already exists\n",
      "ULVR already exists\n",
      "UU. already exists\n",
      "VOD already exists\n",
      "WTB already exists\n",
      "WPP already exists\n"
     ]
    }
   ],
   "source": [
    "import pandas_datareader.data as web\n",
    "import os\n",
    "\n",
    "with open(\"ftse100tickers.pickle\", \"rb\") as f:\n",
    "    tickers = pickle.load(f)\n",
    "\n",
    "if not os.path.exists('stock_dfs'): # if directory not exists\n",
    "    os.makedirs('stock_dfs')\n",
    "\n",
    "start = dt.datetime(2015, 2, 23)\n",
    "end = dt.datetime(2018, 2, 15)\n",
    "\n",
    "for ticker in tickers: # tickers[:10] # get first 10 or any tickers\n",
    "    if not os.path.exists('stock_dfs/{}.csv'.format(ticker)):\n",
    "        df = web.DataReader(ticker, 'google', start, end)\n",
    "        df.to_csv('stock_dfs/{}.csv'.format(ticker))\n",
    "    else:\n",
    "        print('{} already exists'.format(ticker))"
   ]
  },
  {
   "cell_type": "code",
   "execution_count": 43,
   "metadata": {},
   "outputs": [
    {
     "data": {
      "text/html": [
       "<div>\n",
       "<style scoped>\n",
       "    .dataframe tbody tr th:only-of-type {\n",
       "        vertical-align: middle;\n",
       "    }\n",
       "\n",
       "    .dataframe tbody tr th {\n",
       "        vertical-align: top;\n",
       "    }\n",
       "\n",
       "    .dataframe thead th {\n",
       "        text-align: right;\n",
       "    }\n",
       "</style>\n",
       "<table border=\"1\" class=\"dataframe\">\n",
       "  <thead>\n",
       "    <tr style=\"text-align: right;\">\n",
       "      <th></th>\n",
       "      <th>Date</th>\n",
       "      <th>Close</th>\n",
       "    </tr>\n",
       "  </thead>\n",
       "  <tbody>\n",
       "    <tr>\n",
       "      <th>0</th>\n",
       "      <td>2015-02-23</td>\n",
       "      <td>232.7</td>\n",
       "    </tr>\n",
       "    <tr>\n",
       "      <th>1</th>\n",
       "      <td>2015-02-24</td>\n",
       "      <td>226.5</td>\n",
       "    </tr>\n",
       "    <tr>\n",
       "      <th>2</th>\n",
       "      <td>2015-02-25</td>\n",
       "      <td>223.7</td>\n",
       "    </tr>\n",
       "    <tr>\n",
       "      <th>3</th>\n",
       "      <td>2015-02-26</td>\n",
       "      <td>224.7</td>\n",
       "    </tr>\n",
       "    <tr>\n",
       "      <th>4</th>\n",
       "      <td>2015-02-27</td>\n",
       "      <td>224.4</td>\n",
       "    </tr>\n",
       "  </tbody>\n",
       "</table>\n",
       "</div>"
      ],
      "text/plain": [
       "         Date  Close\n",
       "0  2015-02-23  232.7\n",
       "1  2015-02-24  226.5\n",
       "2  2015-02-25  223.7\n",
       "3  2015-02-26  224.7\n",
       "4  2015-02-27  224.4"
      ]
     },
     "execution_count": 43,
     "metadata": {},
     "output_type": "execute_result"
    }
   ],
   "source": [
    "df1 = pd.read_csv('stock_dfs/VOD.csv', usecols=['Date', 'Close'])\n",
    "df1.head()"
   ]
  },
  {
   "cell_type": "code",
   "execution_count": 44,
   "metadata": {},
   "outputs": [
    {
     "data": {
      "text/plain": [
       "<matplotlib.axes._subplots.AxesSubplot at 0x7f6a0e75d190>"
      ]
     },
     "execution_count": 44,
     "metadata": {},
     "output_type": "execute_result"
    },
    {
     "data": {
      "image/png": "[encoded data removed]",
      "text/plain": [
       "<matplotlib.figure.Figure at 0x7f6a16bb2a10>"
      ]
     },
     "metadata": {},
     "output_type": "display_data"
    }
   ],
   "source": [
    "df1.plot()"
   ]
  },
  {
   "cell_type": "code",
   "execution_count": 38,
   "metadata": {},
   "outputs": [
    {
     "data": {
      "text/plain": [
       "['BLND.csv',\n",
       " 'MNDI.csv',\n",
       " 'MKS.csv',\n",
       " 'NMC.csv',\n",
       " 'SLA.csv',\n",
       " 'RRS.csv',\n",
       " 'CCH.csv',\n",
       " 'SVT.csv',\n",
       " 'III.csv',\n",
       " 'BARC.csv',\n",
       " 'SBRY.csv',\n",
       " 'TSCO.csv',\n",
       " 'SGE.csv',\n",
       " 'IAG.csv',\n",
       " 'OML.csv',\n",
       " 'RR..csv',\n",
       " 'GKN.csv',\n",
       " 'RDSA.csv',\n",
       " 'BP..csv',\n",
       " 'DCC.csv',\n",
       " 'INF.csv',\n",
       " 'GSK.csv',\n",
       " 'MDC.csv',\n",
       " 'ITV.csv',\n",
       " 'LAND.csv',\n",
       " 'RB..csv',\n",
       " 'EZJ.csv',\n",
       " 'CNA.csv',\n",
       " 'AAL.csv',\n",
       " 'UU..csv']"
      ]
     },
     "execution_count": 38,
     "metadata": {},
     "output_type": "execute_result"
    }
   ],
   "source": [
    "# compile ftse30\n",
    "import numpy as np\n",
    "import pandas as pd\n",
    "import os, random\n",
    "\n",
    "N = 30 # number of assets, investment portion\n",
    "# random select 30 assets\n",
    "rand_stocks = [] # store selected asset names\n",
    "while(1):\n",
    "    rand_stock = random.choice(os.listdir(\"stock_dfs/\"))\n",
    "    if rand_stock is not '.ipynb_checkpoints' and rand_stock not in rand_stocks: # prevent duplicate\n",
    "        rand_stocks.append(rand_stock)\n",
    "        if len(rand_stocks) == 30:\n",
    "            break\n",
    "rand_stocks"
   ]
  },
  {
   "cell_type": "code",
   "execution_count": 39,
   "metadata": {},
   "outputs": [],
   "source": [
    "# compile assets into one file\n",
    "main_df = pd.DataFrame()\n",
    "for count,ticker in enumerate(rand_stocks): # read asset files\n",
    "    df = pd.read_csv('stock_dfs/'+ticker, usecols=['Close'])\n",
    "    df.rename(columns = {'Close': ticker}, inplace=True) # rename 'Close' to ticker name\n",
    "    df = df.tail(750) # make all data same size from the back\n",
    "    df.reset_index(drop=True, inplace=True) # reindex from 0\n",
    "    if main_df.empty: # if big file is empty\n",
    "        main_df = df\n",
    "    else:\n",
    "        main_df = pd.concat([main_df, df], axis=1)\n",
    "main_df.to_csv('ftse30.csv')"
   ]
  },
  {
   "cell_type": "code",
   "execution_count": null,
   "metadata": {},
   "outputs": [],
   "source": []
  }
 ],
 "metadata": {
  "kernelspec": {
   "display_name": "Python 2",
   "language": "python",
   "name": "python2"
  },
  "language_info": {
   "codemirror_mode": {
    "name": "ipython",
    "version": 2
   },
   "file_extension": ".py",
   "mimetype": "text/x-python",
   "name": "python",
   "nbconvert_exporter": "python",
   "pygments_lexer": "ipython2",
   "version": "2.7.14"
  }
 },
 "nbformat": 4,
 "nbformat_minor": 2
}
